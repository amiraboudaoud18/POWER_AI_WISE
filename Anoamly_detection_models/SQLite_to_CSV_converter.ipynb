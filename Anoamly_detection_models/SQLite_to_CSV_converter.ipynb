{
 "cells": [
  {
   "cell_type": "code",
   "execution_count": 1,
   "id": "00a6d758",
   "metadata": {},
   "outputs": [],
   "source": [
    "import sqlite3\n",
    "import pandas as pd"
   ]
  },
  {
   "cell_type": "code",
   "execution_count": 2,
   "id": "b9e5837f",
   "metadata": {},
   "outputs": [],
   "source": [
    "# Define paths to your two database files\n",
    "db_paths = [\n",
    "    \"db\\leituras301224_1343_270225_0830_DB1.db\",\n",
    "    \"db\\leituras311024_2031-231224_0730_DB2.db\"\n",
    "]"
   ]
  },
  {
   "cell_type": "code",
   "execution_count": 3,
   "id": "76466ae6",
   "metadata": {},
   "outputs": [
    {
     "name": "stdout",
     "output_type": "stream",
     "text": [
      "\n",
      " Processing DB1: db\\leituras301224_1343_270225_0830_DB1.db\n",
      " Table found: leituras\n",
      "Saved to CSV: dataset_1.csv\n",
      " Shape: 265413 rows × 165 columns\n",
      " Columns:\n",
      "['id', 'data_hora', 'ups_work_mode', 'ups_va_in', 'ups_vb_in', 'ups_vc_in', 'ups_hz_in', 'ups_va_out', 'ups_vb_out', 'ups_vc_out', 'ups_hz_out', 'ups_ia_out', 'ups_ib_out', 'ups_ic_out', 'ups_pa', 'ups_pb', 'ups_pc', 'ups_sa', 'ups_sb', 'ups_sc', 'ups_load_a_out', 'ups_load_b_out', 'ups_load_c_out', 'ups_load', 'ups_load_sa', 'ups_load_sb', 'ups_load_sc', 'ups_load_s', 'ups_p_cell_v', 'ups_n_cell_v', 'ups_bat_i_charge', 'ups_bat_i_discharge', 'ups_bat_ah', 'ups_byp_status', 'ups_byp_va', 'ups_byp_vb', 'ups_byp_vc', 'ups_byp_ia', 'ups_byp_ib', 'ups_byp_ic', 'ups_byp_hz', 'met_va_1', 'met_vb_1', 'met_vc_1', 'met_v_1', 'met_hz_1', 'met_ia_1', 'met_ib_1', 'met_ic_1', 'met_i_1', 'met_in_1', 'met_pa_1', 'met_pb_1', 'met_pc_1', 'met_p_1', 'met_sa_1', 'met_sb_1', 'met_sc_1', 'met_s_1', 'met_fpa_1', 'met_fpb_1', 'met_fpc_1', 'met_fp_1', 'met_kwh_1', 'met_kvah_1', 'met_kvah_neg_1', 'met_va_seq_p_1', 'met_va_seq_n_1', 'met_va_zero_n_1', 'met_va_groud_1', 'met_v_imb_1', 'met_ia_seq_p_1', 'met_ia_seq_n_1', 'met_ia_zero_n_1', 'met_i_imb_1', 'met_i_leak_1', 'met_kwh_month_1', 'met_kwh_jan_1', 'met_kwh_feb_1', 'met_kwh_mar_1', 'met_kwh_apr_1', 'met_kwh_may_1', 'met_kwh_jun_1', 'met_kwh_jul_1', 'met_kwh_aug_1', 'met_kwh_set_1', 'met_kwh_oct_1', 'met_kwh_nov_1', 'met_kwh_dec_1', 'met_kwh_y_1', 'met_kwh_1y_1', 'met_va_2', 'met_vb_2', 'met_vc_2', 'met_v_2', 'met_hz_2', 'met_ia_2', 'met_ib_2', 'met_ic_2', 'met_i_2', 'met_in_2', 'met_pa_2', 'met_pb_2', 'met_pc_2', 'met_p_2', 'met_sa_2', 'met_sb_2', 'met_sc_2', 'met_s_2', 'met_fpa_2', 'met_fpb_2', 'met_fpc_2', 'met_fp_2', 'met_kwh_2', 'met_kvah_2', 'met_kvah_neg_2', 'met_va_seq_p_2', 'met_va_seq_n_2', 'met_va_zero_n_2', 'met_va_groud_2', 'met_v_imb_2', 'met_ia_seq_p_2', 'met_ia_seq_n_2', 'met_ia_zero_n_2', 'met_i_imb_2', 'met_i_leak_2', 'met_kwh_month_2', 'met_kwh_jan_2', 'met_kwh_feb_2', 'met_kwh_mar_2', 'met_kwh_apr_2', 'met_kwh_may_2', 'met_kwh_jun_2', 'met_kwh_jul_2', 'met_kwh_aug_2', 'met_kwh_set_2', 'met_kwh_oct_2', 'met_kwh_nov_2', 'met_kwh_dec_2', 'met_kwh_y_2', 'met_kwh_1y_2', 'pdu1_i', 'pdu1_fp', 'pdu1_kwh', 'pdu2_i', 'pdu2_fp', 'pdu2_kwh', 'pdu3_i', 'pdu3_fp', 'pdu3_kwh', 'pdu4_i', 'pdu4_fp', 'pdu4_kwh', 'pdu5_i', 'pdu5_fp', 'pdu5_kwh', 'pdu6_i', 'pdu6_fp', 'pdu6_kwh', 'pdu7_i', 'pdu7_fp', 'pdu7_kwh', 'pdu8_i', 'pdu8_fp', 'pdu8_kwh']\n",
      " Data types:\n",
      "id                int64\n",
      "data_hora        object\n",
      "ups_work_mode    object\n",
      "ups_va_in        object\n",
      "ups_vb_in        object\n",
      "                  ...  \n",
      "pdu7_fp          object\n",
      "pdu7_kwh         object\n",
      "pdu8_i           object\n",
      "pdu8_fp          object\n",
      "pdu8_kwh         object\n",
      "Length: 165, dtype: object\n",
      "\n",
      "\n",
      " Processing DB2: db\\leituras311024_2031-231224_0730_DB2.db\n",
      " Table found: leituras\n",
      "Saved to CSV: dataset_2.csv\n",
      " Shape: 438835 rows × 165 columns\n",
      " Columns:\n",
      "['id', 'data_hora', 'ups_work_mode', 'ups_va_in', 'ups_vb_in', 'ups_vc_in', 'ups_hz_in', 'ups_va_out', 'ups_vb_out', 'ups_vc_out', 'ups_hz_out', 'ups_ia_out', 'ups_ib_out', 'ups_ic_out', 'ups_pa', 'ups_pb', 'ups_pc', 'ups_sa', 'ups_sb', 'ups_sc', 'ups_load_a_out', 'ups_load_b_out', 'ups_load_c_out', 'ups_load', 'ups_load_sa', 'ups_load_sb', 'ups_load_sc', 'ups_load_s', 'ups_p_cell_v', 'ups_n_cell_v', 'ups_bat_i_charge', 'ups_bat_i_discharge', 'ups_bat_ah', 'ups_byp_status', 'ups_byp_va', 'ups_byp_vb', 'ups_byp_vc', 'ups_byp_ia', 'ups_byp_ib', 'ups_byp_ic', 'ups_byp_hz', 'met_va_1', 'met_vb_1', 'met_vc_1', 'met_v_1', 'met_hz_1', 'met_ia_1', 'met_ib_1', 'met_ic_1', 'met_i_1', 'met_in_1', 'met_pa_1', 'met_pb_1', 'met_pc_1', 'met_p_1', 'met_sa_1', 'met_sb_1', 'met_sc_1', 'met_s_1', 'met_fpa_1', 'met_fpb_1', 'met_fpc_1', 'met_fp_1', 'met_kwh_1', 'met_kvah_1', 'met_kvah_neg_1', 'met_va_seq_p_1', 'met_va_seq_n_1', 'met_va_zero_n_1', 'met_va_groud_1', 'met_v_imb_1', 'met_ia_seq_p_1', 'met_ia_seq_n_1', 'met_ia_zero_n_1', 'met_i_imb_1', 'met_i_leak_1', 'met_kwh_month_1', 'met_kwh_jan_1', 'met_kwh_feb_1', 'met_kwh_mar_1', 'met_kwh_apr_1', 'met_kwh_may_1', 'met_kwh_jun_1', 'met_kwh_jul_1', 'met_kwh_aug_1', 'met_kwh_set_1', 'met_kwh_oct_1', 'met_kwh_nov_1', 'met_kwh_dec_1', 'met_kwh_y_1', 'met_kwh_1y_1', 'met_va_2', 'met_vb_2', 'met_vc_2', 'met_v_2', 'met_hz_2', 'met_ia_2', 'met_ib_2', 'met_ic_2', 'met_i_2', 'met_in_2', 'met_pa_2', 'met_pb_2', 'met_pc_2', 'met_p_2', 'met_sa_2', 'met_sb_2', 'met_sc_2', 'met_s_2', 'met_fpa_2', 'met_fpb_2', 'met_fpc_2', 'met_fp_2', 'met_kwh_2', 'met_kvah_2', 'met_kvah_neg_2', 'met_va_seq_p_2', 'met_va_seq_n_2', 'met_va_zero_n_2', 'met_va_groud_2', 'met_v_imb_2', 'met_ia_seq_p_2', 'met_ia_seq_n_2', 'met_ia_zero_n_2', 'met_i_imb_2', 'met_i_leak_2', 'met_kwh_month_2', 'met_kwh_jan_2', 'met_kwh_feb_2', 'met_kwh_mar_2', 'met_kwh_apr_2', 'met_kwh_may_2', 'met_kwh_jun_2', 'met_kwh_jul_2', 'met_kwh_aug_2', 'met_kwh_set_2', 'met_kwh_oct_2', 'met_kwh_nov_2', 'met_kwh_dec_2', 'met_kwh_y_2', 'met_kwh_1y_2', 'pdu1_i', 'pdu1_fp', 'pdu1_kwh', 'pdu2_i', 'pdu2_fp', 'pdu2_kwh', 'pdu3_i', 'pdu3_fp', 'pdu3_kwh', 'pdu4_i', 'pdu4_fp', 'pdu4_kwh', 'pdu5_i', 'pdu5_fp', 'pdu5_kwh', 'pdu6_i', 'pdu6_fp', 'pdu6_kwh', 'pdu7_i', 'pdu7_fp', 'pdu7_kwh', 'pdu8_i', 'pdu8_fp', 'pdu8_kwh']\n",
      " Data types:\n",
      "id                int64\n",
      "data_hora        object\n",
      "ups_work_mode    object\n",
      "ups_va_in        object\n",
      "ups_vb_in        object\n",
      "                  ...  \n",
      "pdu7_fp          object\n",
      "pdu7_kwh         object\n",
      "pdu8_i           object\n",
      "pdu8_fp          object\n",
      "pdu8_kwh         object\n",
      "Length: 165, dtype: object\n",
      "\n"
     ]
    }
   ],
   "source": [
    "# Process each .db file\n",
    "for i, db_path in enumerate(db_paths, start=1):\n",
    "    print(f\"\\n Processing DB{i}: {db_path}\")\n",
    "    \n",
    "    # Connect to the database\n",
    "    conn = sqlite3.connect(db_path)\n",
    "    \n",
    "    # Step 1: List all tables\n",
    "    tables = pd.read_sql_query(\"SELECT name FROM sqlite_master WHERE type='table';\", conn)\n",
    "    if tables.empty:\n",
    "        print(\" No tables found in this database.\")\n",
    "        continue\n",
    "    \n",
    "    # Get first table name\n",
    "    table_name = tables.iloc[0, 0]\n",
    "    print(f\" Table found: {table_name}\")\n",
    "    \n",
    "    # Step 2: Load table data\n",
    "    df = pd.read_sql_query(f\"SELECT * FROM {table_name}\", conn)\n",
    "    \n",
    "    # Save to CSV\n",
    "    csv_filename = f\"dataset_{i}.csv\"\n",
    "    df.to_csv(csv_filename, index=False)\n",
    "    print(f\"Saved to CSV: {csv_filename}\")\n",
    "    \n",
    "    # Step 3: Print metadata\n",
    "    print(f\" Shape: {df.shape[0]} rows × {df.shape[1]} columns\")\n",
    "    print(f\" Columns:\\n{df.columns.tolist()}\")\n",
    "    print(f\" Data types:\\n{df.dtypes}\\n\")\n",
    "    \n",
    "    # Close connection\n",
    "    conn.close()"
   ]
  },
  {
   "cell_type": "code",
   "execution_count": null,
   "id": "d67780fa",
   "metadata": {},
   "outputs": [],
   "source": []
  }
 ],
 "metadata": {
  "kernelspec": {
   "display_name": "myenv",
   "language": "python",
   "name": "python3"
  },
  "language_info": {
   "codemirror_mode": {
    "name": "ipython",
    "version": 3
   },
   "file_extension": ".py",
   "mimetype": "text/x-python",
   "name": "python",
   "nbconvert_exporter": "python",
   "pygments_lexer": "ipython3",
   "version": "3.9.18"
  }
 },
 "nbformat": 4,
 "nbformat_minor": 5
}
